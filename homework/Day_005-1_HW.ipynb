{
 "cells": [
  {
   "cell_type": "markdown",
   "metadata": {},
   "source": [
    "# [作業目標]\n",
    "- 利用範例的創建方式, 創建一組資料, 並練習如何取出最大值"
   ]
  },
  {
   "cell_type": "markdown",
   "metadata": {},
   "source": [
    "# [作業重點]\n",
    "- 練習創立 DataFrame (In[2])\n",
    "- 如何取出口數最多的國家 (In[3], Out[3])"
   ]
  },
  {
   "cell_type": "markdown",
   "metadata": {},
   "source": [
    "## 練習時間\n",
    "在小量的資料上，我們用眼睛就可以看得出來程式碼是否有跑出我們理想中的結果\n",
    "\n",
    "請嘗試想像一個你需要的資料結構 (裡面的值可以是隨機的)，然後用上述的方法把它變成 pandas DataFrame\n",
    "\n",
    "#### Ex: 想像一個 dataframe 有兩個欄位，一個是國家，一個是人口，求人口數最多的國家\n",
    "\n",
    "### Hints: [隨機產生數值](https://blog.csdn.net/christianashannon/article/details/78867204)"
   ]
  },
  {
   "cell_type": "code",
   "execution_count": 93,
   "metadata": {},
   "outputs": [],
   "source": [
    "import pandas as pd\n",
    "import numpy as np"
   ]
  },
  {
   "cell_type": "code",
   "execution_count": 94,
   "metadata": {},
   "outputs": [],
   "source": [
    "data = {'國家':[\"芬蘭\", \"丹麥\", \"挪威\", \"冰島\", \"荷蘭\", \"瑞士\", \"瑞典\", \"新西蘭\", \"加拿大\", \"奧地利\"] ,\n",
    "        '人口':np.random.randint(1000000,100000000,size = 10) }\n",
    "population_1 = pd.DataFrame(data)"
   ]
  },
  {
   "cell_type": "code",
   "execution_count": 95,
   "metadata": {},
   "outputs": [
    {
     "name": "stdout",
     "output_type": "stream",
     "text": [
      "    國家        人口\n",
      "0   芬蘭  46516204\n",
      "1   丹麥   6812165\n",
      "2   挪威   2303080\n",
      "3   冰島  43966827\n",
      "4   荷蘭  66600317\n",
      "5   瑞士  32803022\n",
      "6   瑞典  49624072\n",
      "7  新西蘭  15456426\n",
      "8  加拿大  18282292\n",
      "9  奧地利  24225090\n"
     ]
    }
   ],
   "source": [
    "print(population_1)"
   ]
  },
  {
   "cell_type": "code",
   "execution_count": 96,
   "metadata": {},
   "outputs": [
    {
     "name": "stdout",
     "output_type": "stream",
     "text": [
      "荷蘭 : 66600317\n"
     ]
    }
   ],
   "source": [
    "# population_1['國家'][population_1['人口'].idxmax] ==> [國家行][人口第幾列]\n",
    "print(population_1['國家'][population_1['人口'].idxmax], \":\", population_1['人口'].max())"
   ]
  },
  {
   "cell_type": "code",
   "execution_count": 97,
   "metadata": {},
   "outputs": [],
   "source": [
    "國家 = [\"芬蘭\", \"丹麥\", \"挪威\", \"冰島\", \"荷蘭\", \"瑞士\", \"瑞典\", \"新西蘭\", \"加拿大\", \"奧地利\"]\n",
    "人口 = np.random.randint(1000000,100000000,size = 10)\n",
    "list_labels = [\"國家\", \"人口\"]\n",
    "list_cols = [國家, 人口]\n",
    "zipped = list(zip(list_labels, list_cols))"
   ]
  },
  {
   "cell_type": "code",
   "execution_count": 98,
   "metadata": {},
   "outputs": [
    {
     "name": "stdout",
     "output_type": "stream",
     "text": [
      "    國家        人口\n",
      "0   芬蘭  91793333\n",
      "1   丹麥  30326965\n",
      "2   挪威  63415666\n",
      "3   冰島  30975930\n",
      "4   荷蘭  20755334\n",
      "5   瑞士  62659096\n",
      "6   瑞典  70285177\n",
      "7  新西蘭  14495064\n",
      "8  加拿大  45768086\n",
      "9  奧地利  99448468\n"
     ]
    }
   ],
   "source": [
    "population_2 = pd.DataFrame(dict(zipped))\n",
    "print(population_2)"
   ]
  },
  {
   "cell_type": "code",
   "execution_count": 99,
   "metadata": {},
   "outputs": [
    {
     "name": "stdout",
     "output_type": "stream",
     "text": [
      "奧地利 : 99448468\n"
     ]
    }
   ],
   "source": [
    "print(population_2['國家'][population_2['人口'].idxmax], \":\", population_2['人口'].max())"
   ]
  }
 ],
 "metadata": {
  "kernelspec": {
   "display_name": "Python 3",
   "language": "python",
   "name": "python3"
  },
  "language_info": {
   "codemirror_mode": {
    "name": "ipython",
    "version": 3
   },
   "file_extension": ".py",
   "mimetype": "text/x-python",
   "name": "python",
   "nbconvert_exporter": "python",
   "pygments_lexer": "ipython3",
   "version": "3.7.3"
  }
 },
 "nbformat": 4,
 "nbformat_minor": 2
}
