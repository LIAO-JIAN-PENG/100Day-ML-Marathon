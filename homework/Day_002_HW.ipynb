{
 "cells": [
  {
   "cell_type": "markdown",
   "metadata": {},
   "source": [
    "## [作業目標]\n",
    "了解機器學習適合應用的領域與範疇。"
   ]
  },
  {
   "cell_type": "markdown",
   "metadata": {},
   "source": [
    "## [作業重點]\n",
    "透過瞭解機器學習的運作方式，找出非常適用機器學習應用的領域及其原因"
   ]
  },
  {
   "cell_type": "markdown",
   "metadata": {},
   "source": [
    "## 作業\n",
    "請找出一個你認為機器學習可以發光發熱的領域並闡述原因? "
   ]
  },
  {
   "cell_type": "markdown",
   "metadata": {},
   "source": [
    "A:情緒聲音生成\n",
    "\n",
    "我們人在看電影時是否有因為背景音樂而被帶動情緒\n",
    "\n",
    "所以若可以蒐集受試者當下情緒轉變或偵測受試者腦波\n",
    "\n",
    "用半監督式學習(Semi-Supervised Learning)並在網路上找出相似音樂類型\n",
    "\n",
    "測試時觀察受試者後續情緒變化\n",
    "\n",
    "再者用強化學習(Reinforcement Learning)\n",
    "\n",
    "生成無數音樂\n",
    "\n",
    "並依照環境撥放最能帶動氣氛\n",
    "\n",
    "或者緩和情緒\n",
    "\n",
    "適用在各種需要提升對象在此環境的舒適感或者情緒治療\n",
    "\n",
    "例如:海邊度假勝地，可是顧客需求，如約會時放愛情音樂，狂歡時放HIGH歌，仿造電影放背景音樂時的情緒感受"
   ]
  }
 ],
 "metadata": {
  "kernelspec": {
   "display_name": "Python 3",
   "language": "python",
   "name": "python3"
  },
  "language_info": {
   "codemirror_mode": {
    "name": "ipython",
    "version": 3
   },
   "file_extension": ".py",
   "mimetype": "text/x-python",
   "name": "python",
   "nbconvert_exporter": "python",
   "pygments_lexer": "ipython3",
   "version": "3.7.3"
  }
 },
 "nbformat": 4,
 "nbformat_minor": 2
}
