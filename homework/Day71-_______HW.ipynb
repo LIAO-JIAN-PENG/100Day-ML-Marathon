{
 "cells": [
  {
   "cell_type": "markdown",
   "metadata": {
    "colab_type": "text",
    "id": "cj4tE8e8iUtO"
   },
   "source": [
    "#   \n",
    "\n",
    "# 作業目標:\n",
    "\n",
    "    1. 藉由固定的 dataset, 來驗證不同loss function\n",
    "    2. Dataset 的特性跟我們選用的loss function 對accrancy 的影響\n",
    "    \n",
    "    \n",
    "# 作業重點: \n",
    "    請分別選用 \"MSE\", \"binary _crossentropy\"\n",
    "    查看Train/test accurancy and loss rate\n",
    "    "
   ]
  },
  {
   "cell_type": "markdown",
   "metadata": {
    "colab_type": "text",
    "id": "R51J4KyyiUsL"
   },
   "source": [
    "# 導入必要的函數"
   ]
  },
  {
   "cell_type": "code",
   "execution_count": 1,
   "metadata": {
    "colab": {},
    "colab_type": "code",
    "id": "Qd68OQjciUsM"
   },
   "outputs": [
    {
     "name": "stderr",
     "output_type": "stream",
     "text": [
      "Using TensorFlow backend.\n"
     ]
    }
   ],
   "source": [
    "from keras.datasets import cifar10\n",
    "import numpy as np\n",
    "np.random.seed(10)"
   ]
  },
  {
   "cell_type": "markdown",
   "metadata": {
    "colab_type": "text",
    "id": "GxKuzQLQiUsP"
   },
   "source": [
    "# 資料準備"
   ]
  },
  {
   "cell_type": "code",
   "execution_count": 2,
   "metadata": {
    "colab": {},
    "colab_type": "code",
    "id": "MIbFZdTCiUsQ"
   },
   "outputs": [],
   "source": [
    "#取得Keras Dataset\n",
    "(x_img_train,y_label_train),(x_img_test,y_label_test)=cifar10.load_data()"
   ]
  },
  {
   "cell_type": "code",
   "execution_count": 3,
   "metadata": {
    "colab": {},
    "colab_type": "code",
    "id": "J8CJVjNOiUsS"
   },
   "outputs": [
    {
     "name": "stdout",
     "output_type": "stream",
     "text": [
      "train data: images: (50000, 32, 32, 3)  labels: (50000, 1)\n",
      "test  data: images: (10000, 32, 32, 3)  labels: (10000, 1)\n"
     ]
    }
   ],
   "source": [
    "#確認 CIFAR10 Dataset 資料維度\n",
    "print(\"train data:\",'images:',x_img_train.shape,\n",
    "      \" labels:\",y_label_train.shape) \n",
    "print(\"test  data:\",'images:',x_img_test.shape ,\n",
    "      \" labels:\",y_label_test.shape) "
   ]
  },
  {
   "cell_type": "code",
   "execution_count": 4,
   "metadata": {
    "colab": {},
    "colab_type": "code",
    "id": "V3P6P4DXiUsV"
   },
   "outputs": [],
   "source": [
    "#資料正規化\n",
    "x_img_train_normalize = x_img_train.astype('float32') / 255.0\n",
    "x_img_test_normalize = x_img_test.astype('float32') / 255.0"
   ]
  },
  {
   "cell_type": "code",
   "execution_count": 5,
   "metadata": {
    "colab": {},
    "colab_type": "code",
    "id": "vsDyjKYliUsX"
   },
   "outputs": [
    {
     "data": {
      "text/plain": [
       "(10000, 10)"
      ]
     },
     "execution_count": 5,
     "metadata": {},
     "output_type": "execute_result"
    }
   ],
   "source": [
    "#針對Label 做 ONE HOT ENCODE\n",
    "from keras.utils import np_utils\n",
    "y_label_train_OneHot = np_utils.to_categorical(y_label_train)\n",
    "y_label_test_OneHot = np_utils.to_categorical(y_label_test)\n",
    "y_label_test_OneHot.shape"
   ]
  },
  {
   "cell_type": "markdown",
   "metadata": {
    "colab_type": "text",
    "id": "RutW2OtgiUsZ"
   },
   "source": [
    "# 建立模型"
   ]
  },
  {
   "cell_type": "code",
   "execution_count": 6,
   "metadata": {
    "colab": {},
    "colab_type": "code",
    "id": "aHz592aXiUsa"
   },
   "outputs": [],
   "source": [
    "from keras.models import Sequential\n",
    "from keras.layers import Dense, Dropout, Activation, Flatten\n",
    "from keras.layers import Conv2D, MaxPooling2D, ZeroPadding2D"
   ]
  },
  {
   "cell_type": "code",
   "execution_count": 7,
   "metadata": {
    "colab": {},
    "colab_type": "code",
    "id": "hslqrIp0iUse"
   },
   "outputs": [],
   "source": [
    "model = Sequential()"
   ]
  },
  {
   "cell_type": "code",
   "execution_count": 8,
   "metadata": {
    "colab": {},
    "colab_type": "code",
    "id": "Hqe35hs2iUsi"
   },
   "outputs": [],
   "source": [
    "#卷積層1"
   ]
  },
  {
   "cell_type": "code",
   "execution_count": 9,
   "metadata": {
    "colab": {},
    "colab_type": "code",
    "id": "ED7dqe1YiUsm"
   },
   "outputs": [],
   "source": [
    "model.add(Conv2D(filters=32,kernel_size=(3,3),\n",
    "                 input_shape=(32, 32,3), \n",
    "                 activation='relu', \n",
    "                 padding='same'))"
   ]
  },
  {
   "cell_type": "code",
   "execution_count": 10,
   "metadata": {
    "colab": {},
    "colab_type": "code",
    "id": "n-GRKmPViUso"
   },
   "outputs": [],
   "source": [
    "model.add(Dropout(rate=0.25))"
   ]
  },
  {
   "cell_type": "code",
   "execution_count": 11,
   "metadata": {
    "colab": {},
    "colab_type": "code",
    "id": "GlWnnD1uiUsw"
   },
   "outputs": [],
   "source": [
    "model.add(MaxPooling2D(pool_size=(2, 2)))"
   ]
  },
  {
   "cell_type": "code",
   "execution_count": 12,
   "metadata": {
    "colab": {},
    "colab_type": "code",
    "id": "nawlkt55iUsy"
   },
   "outputs": [],
   "source": [
    "#卷積層2與池化層2"
   ]
  },
  {
   "cell_type": "code",
   "execution_count": 13,
   "metadata": {
    "colab": {},
    "colab_type": "code",
    "id": "xxyETiKNiUs1"
   },
   "outputs": [],
   "source": [
    "model.add(Conv2D(filters=64, kernel_size=(3, 3), \n",
    "                 activation='relu', padding='same'))"
   ]
  },
  {
   "cell_type": "code",
   "execution_count": 14,
   "metadata": {
    "colab": {},
    "colab_type": "code",
    "id": "RqcKWtqGiUs2"
   },
   "outputs": [],
   "source": [
    "model.add(Dropout(0.25))"
   ]
  },
  {
   "cell_type": "code",
   "execution_count": 15,
   "metadata": {
    "colab": {},
    "colab_type": "code",
    "id": "BUOOzlqfiUs4"
   },
   "outputs": [],
   "source": [
    "model.add(MaxPooling2D(pool_size=(2, 2)))"
   ]
  },
  {
   "cell_type": "code",
   "execution_count": 16,
   "metadata": {
    "colab": {},
    "colab_type": "code",
    "id": "LpkppB2siUs7"
   },
   "outputs": [],
   "source": [
    "#建立神經網路(平坦層、隱藏層、輸出層)"
   ]
  },
  {
   "cell_type": "code",
   "execution_count": 17,
   "metadata": {
    "colab": {},
    "colab_type": "code",
    "id": "UQOfU54_iUs_"
   },
   "outputs": [],
   "source": [
    "model.add(Flatten())\n",
    "model.add(Dropout(rate=0.25))"
   ]
  },
  {
   "cell_type": "code",
   "execution_count": 18,
   "metadata": {
    "colab": {},
    "colab_type": "code",
    "id": "_NV-8sq4iUtD"
   },
   "outputs": [],
   "source": [
    "model.add(Dense(1024, activation='relu'))\n",
    "model.add(Dropout(rate=0.25))"
   ]
  },
  {
   "cell_type": "code",
   "execution_count": 19,
   "metadata": {
    "colab": {},
    "colab_type": "code",
    "id": "qVK77krOiUtF"
   },
   "outputs": [],
   "source": [
    "model.add(Dense(10, activation='softmax'))"
   ]
  },
  {
   "cell_type": "code",
   "execution_count": 20,
   "metadata": {
    "colab": {},
    "colab_type": "code",
    "id": "ZxzRIjR0iUtH"
   },
   "outputs": [
    {
     "name": "stdout",
     "output_type": "stream",
     "text": [
      "Model: \"sequential_1\"\n",
      "_________________________________________________________________\n",
      "Layer (type)                 Output Shape              Param #   \n",
      "=================================================================\n",
      "conv2d_1 (Conv2D)            (None, 32, 32, 32)        896       \n",
      "_________________________________________________________________\n",
      "dropout_1 (Dropout)          (None, 32, 32, 32)        0         \n",
      "_________________________________________________________________\n",
      "max_pooling2d_1 (MaxPooling2 (None, 16, 16, 32)        0         \n",
      "_________________________________________________________________\n",
      "conv2d_2 (Conv2D)            (None, 16, 16, 64)        18496     \n",
      "_________________________________________________________________\n",
      "dropout_2 (Dropout)          (None, 16, 16, 64)        0         \n",
      "_________________________________________________________________\n",
      "max_pooling2d_2 (MaxPooling2 (None, 8, 8, 64)          0         \n",
      "_________________________________________________________________\n",
      "flatten_1 (Flatten)          (None, 4096)              0         \n",
      "_________________________________________________________________\n",
      "dropout_3 (Dropout)          (None, 4096)              0         \n",
      "_________________________________________________________________\n",
      "dense_1 (Dense)              (None, 1024)              4195328   \n",
      "_________________________________________________________________\n",
      "dropout_4 (Dropout)          (None, 1024)              0         \n",
      "_________________________________________________________________\n",
      "dense_2 (Dense)              (None, 10)                10250     \n",
      "=================================================================\n",
      "Total params: 4,224,970\n",
      "Trainable params: 4,224,970\n",
      "Non-trainable params: 0\n",
      "_________________________________________________________________\n",
      "None\n"
     ]
    }
   ],
   "source": [
    "#檢查model 的STACK\n",
    "print(model.summary())"
   ]
  },
  {
   "cell_type": "markdown",
   "metadata": {
    "colab_type": "text",
    "id": "QJCtpJM0iUtJ"
   },
   "source": [
    "# 載入之前訓練的模型"
   ]
  },
  {
   "cell_type": "code",
   "execution_count": 21,
   "metadata": {
    "colab": {},
    "colab_type": "code",
    "id": "JU3A6NzQiUtK"
   },
   "outputs": [
    {
     "name": "stdout",
     "output_type": "stream",
     "text": [
      "載入模型失敗!開始訓練一個新模型\n"
     ]
    }
   ],
   "source": [
    "try:\n",
    "    model.load_weights(\"SaveModel/cifarCnnModel.h5\")\n",
    "    print(\"載入模型成功!繼續訓練模型\")\n",
    "except :    \n",
    "    print(\"載入模型失敗!開始訓練一個新模型\")"
   ]
  },
  {
   "cell_type": "markdown",
   "metadata": {
    "colab_type": "text",
    "id": "qBbCuziziUtM"
   },
   "source": [
    "# 訓練模型"
   ]
  },
  {
   "cell_type": "code",
   "execution_count": 22,
   "metadata": {},
   "outputs": [],
   "source": [
    "#模型編譯\n",
    "model.compile(loss='categorical_crossentropy', optimizer='Adam', metrics=['accuracy'])"
   ]
  },
  {
   "cell_type": "code",
   "execution_count": 23,
   "metadata": {},
   "outputs": [
    {
     "name": "stdout",
     "output_type": "stream",
     "text": [
      "Train on 37500 samples, validate on 12500 samples\n",
      "Epoch 1/12\n",
      "37500/37500 [==============================] - 74s 2ms/step - loss: 1.5173 - accuracy: 0.4554 - val_loss: 1.3069 - val_accuracy: 0.5774\n",
      "Epoch 2/12\n",
      "37500/37500 [==============================] - 46s 1ms/step - loss: 1.1455 - accuracy: 0.5927 - val_loss: 1.1169 - val_accuracy: 0.6413\n",
      "Epoch 3/12\n",
      "37500/37500 [==============================] - 46s 1ms/step - loss: 1.0044 - accuracy: 0.6467 - val_loss: 1.0559 - val_accuracy: 0.6508\n",
      "Epoch 4/12\n",
      "37500/37500 [==============================] - 46s 1ms/step - loss: 0.9005 - accuracy: 0.6819 - val_loss: 0.9927 - val_accuracy: 0.6781\n",
      "Epoch 5/12\n",
      "37500/37500 [==============================] - 46s 1ms/step - loss: 0.8107 - accuracy: 0.7113 - val_loss: 0.9098 - val_accuracy: 0.6919\n",
      "Epoch 6/12\n",
      "37500/37500 [==============================] - 46s 1ms/step - loss: 0.7362 - accuracy: 0.7400 - val_loss: 0.8542 - val_accuracy: 0.7197\n",
      "Epoch 7/12\n",
      "37500/37500 [==============================] - 46s 1ms/step - loss: 0.6451 - accuracy: 0.7727 - val_loss: 0.8356 - val_accuracy: 0.7155\n",
      "Epoch 8/12\n",
      "37500/37500 [==============================] - 46s 1ms/step - loss: 0.5753 - accuracy: 0.7978 - val_loss: 0.7868 - val_accuracy: 0.7371\n",
      "Epoch 9/12\n",
      "37500/37500 [==============================] - 46s 1ms/step - loss: 0.5174 - accuracy: 0.8153 - val_loss: 0.8095 - val_accuracy: 0.7260\n",
      "Epoch 10/12\n",
      "37500/37500 [==============================] - 46s 1ms/step - loss: 0.4527 - accuracy: 0.8402 - val_loss: 0.7876 - val_accuracy: 0.7310\n",
      "Epoch 11/12\n",
      "37500/37500 [==============================] - 46s 1ms/step - loss: 0.3979 - accuracy: 0.8619 - val_loss: 0.7655 - val_accuracy: 0.7383\n",
      "Epoch 12/12\n",
      "37500/37500 [==============================] - 46s 1ms/step - loss: 0.3543 - accuracy: 0.8769 - val_loss: 0.7759 - val_accuracy: 0.7394\n"
     ]
    }
   ],
   "source": [
    "train_history=model.fit(x_img_train_normalize, y_label_train_OneHot,\n",
    "                        validation_split=0.25,\n",
    "                        epochs=12, batch_size=128, verbose=1)"
   ]
  },
  {
   "cell_type": "code",
   "execution_count": 24,
   "metadata": {},
   "outputs": [],
   "source": [
    "import matplotlib.pyplot as plt\n",
    "%matplotlib inline\n",
    "\n",
    "#定義一個繪圖函數\n",
    "def show_train_history(train_acc,test_acc):\n",
    "    plt.plot(train_history.history[train_acc])\n",
    "    plt.plot(train_history.history[test_acc])\n",
    "    plt.title('Train History')\n",
    "    plt.ylabel('Accuracy')\n",
    "    plt.xlabel('Epoch')\n",
    "    plt.legend(['train_acc', 'val_acc'], loc='upper left')\n",
    "    plt.show()"
   ]
  },
  {
   "cell_type": "code",
   "execution_count": 25,
   "metadata": {},
   "outputs": [
    {
     "data": {
      "image/png": "[encoded data removed]",
      "text/plain": [
       "<Figure size 432x288 with 1 Axes>"
      ]
     },
     "metadata": {
      "needs_background": "light"
     },
     "output_type": "display_data"
    }
   ],
   "source": [
    "show_train_history('accuracy','val_accuracy')"
   ]
  },
  {
   "cell_type": "code",
   "execution_count": 26,
   "metadata": {},
   "outputs": [],
   "source": [
    "def check_model(loss_function) :\n",
    "        \n",
    "    model.compile(loss = loss_function, optimizer='sgd', metrics=['accuracy'])\n",
    "\n",
    "    #模型訓練, \"Train_History\" 把訓練過程所得到的數值存起來\n",
    "    train_history = model.fit(x_img_train_normalize, \n",
    "                              y_label_train_OneHot,\n",
    "                              validation_split=0.25,\n",
    "                              epochs=12, \n",
    "                              batch_size=128, \n",
    "                              verbose=1\n",
    "                             )         \n",
    "\n",
    "    # [validation_split = 0.2] validation_split：在0和1之間浮動。用作驗證數據的訓練數據的比例。\n",
    "    # 該模型將訓練數據的這一部分分開，不會對其進行訓練，並將在每個時期結束時評估該數據的損失和任何模型指標。\n",
    "    # [batch_size]：整數或None。每個梯度更新的樣本數。指定，batch_size為128\n",
    "\n",
    "    # 定義一個繪圖函數\n",
    "    def show_train_history(train_history, train, validation):\n",
    "        plt.plot(train_history.history[train])\n",
    "        plt.plot(train_history.history[validation])\n",
    "        plt.title('Train History')\n",
    "        plt.ylabel(train)\n",
    "        plt.xlabel('Epoch')\n",
    "        plt.legend(['train', 'validation'], loc='upper left')\n",
    "        plt.show()\n",
    "        \n",
    "    # plot\n",
    "    show_train_history(train_history, 'accuracy', 'val_accuracy')\n",
    "    plt.show()\n",
    "    show_train_history(train_history, 'loss', 'val_loss')\n",
    "\n",
    "    # scores\n",
    "    scores = model.evaluate(x_img_test_normalize, y_label_test_OneHot)\n",
    "    print()\n",
    "    print('accuracy=',scores[1])"
   ]
  },
  {
   "cell_type": "code",
   "execution_count": 27,
   "metadata": {},
   "outputs": [
    {
     "name": "stdout",
     "output_type": "stream",
     "text": [
      "Train on 37500 samples, validate on 12500 samples\n",
      "Epoch 1/12\n",
      "37500/37500 [==============================] - 41s 1ms/step - loss: 1.1396 - accuracy: 0.6455 - val_loss: 0.9125 - val_accuracy: 0.6906\n",
      "Epoch 2/12\n",
      "37500/37500 [==============================] - 40s 1ms/step - loss: 0.4719 - accuracy: 0.8378 - val_loss: 0.8408 - val_accuracy: 0.7178\n",
      "Epoch 3/12\n",
      "37500/37500 [==============================] - 40s 1ms/step - loss: 0.3956 - accuracy: 0.8614 - val_loss: 0.8876 - val_accuracy: 0.7069\n",
      "Epoch 4/12\n",
      "37500/37500 [==============================] - 40s 1ms/step - loss: 0.3573 - accuracy: 0.8766 - val_loss: 0.7837 - val_accuracy: 0.7378\n",
      "Epoch 5/12\n",
      "37500/37500 [==============================] - 40s 1ms/step - loss: 0.3275 - accuracy: 0.8844 - val_loss: 0.8011 - val_accuracy: 0.7314\n",
      "Epoch 6/12\n",
      "37500/37500 [==============================] - 40s 1ms/step - loss: 0.3102 - accuracy: 0.8921 - val_loss: 0.7776 - val_accuracy: 0.7399\n",
      "Epoch 7/12\n",
      "37500/37500 [==============================] - 40s 1ms/step - loss: 0.3076 - accuracy: 0.8921 - val_loss: 0.7865 - val_accuracy: 0.7350\n",
      "Epoch 8/12\n",
      "37500/37500 [==============================] - 40s 1ms/step - loss: 0.2881 - accuracy: 0.8965 - val_loss: 0.7899 - val_accuracy: 0.7372\n",
      "Epoch 9/12\n",
      "37500/37500 [==============================] - 40s 1ms/step - loss: 0.2862 - accuracy: 0.8986 - val_loss: 0.7823 - val_accuracy: 0.7418\n",
      "Epoch 10/12\n",
      "37500/37500 [==============================] - 40s 1ms/step - loss: 0.2789 - accuracy: 0.9027 - val_loss: 0.9142 - val_accuracy: 0.7015\n",
      "Epoch 11/12\n",
      "37500/37500 [==============================] - 40s 1ms/step - loss: 0.2696 - accuracy: 0.9055 - val_loss: 0.7852 - val_accuracy: 0.7438\n",
      "Epoch 12/12\n",
      "37500/37500 [==============================] - 40s 1ms/step - loss: 0.2674 - accuracy: 0.9050 - val_loss: 0.7891 - val_accuracy: 0.7393\n"
     ]
    },
    {
     "data": {
      "image/png": "[encoded data removed]",
      "text/plain": [
       "<Figure size 432x288 with 1 Axes>"
      ]
     },
     "metadata": {
      "needs_background": "light"
     },
     "output_type": "display_data"
    },
    {
     "data": {
      "image/png": "[encoded data removed]",
      "text/plain": [
       "<Figure size 432x288 with 1 Axes>"
      ]
     },
     "metadata": {
      "needs_background": "light"
     },
     "output_type": "display_data"
    },
    {
     "name": "stdout",
     "output_type": "stream",
     "text": [
      "10000/10000 [==============================] - 4s 436us/step\n",
      "\n",
      "accuracy= 0.7408000230789185\n"
     ]
    }
   ],
   "source": [
    "loss_function = 'categorical_crossentropy'\n",
    "check_model(loss_function)"
   ]
  },
  {
   "cell_type": "code",
   "execution_count": 28,
   "metadata": {},
   "outputs": [
    {
     "name": "stdout",
     "output_type": "stream",
     "text": [
      "Train on 37500 samples, validate on 12500 samples\n",
      "Epoch 1/12\n",
      "37500/37500 [==============================] - 41s 1ms/step - loss: 0.0124 - accuracy: 0.9164 - val_loss: 0.0355 - val_accuracy: 0.7454\n",
      "Epoch 2/12\n",
      "37500/37500 [==============================] - 40s 1ms/step - loss: 0.0120 - accuracy: 0.9191 - val_loss: 0.0353 - val_accuracy: 0.7468\n",
      "Epoch 3/12\n",
      "37500/37500 [==============================] - 40s 1ms/step - loss: 0.0122 - accuracy: 0.9189 - val_loss: 0.0354 - val_accuracy: 0.7457\n",
      "Epoch 4/12\n",
      "37500/37500 [==============================] - 40s 1ms/step - loss: 0.0122 - accuracy: 0.9174 - val_loss: 0.0354 - val_accuracy: 0.7451\n",
      "Epoch 5/12\n",
      "37500/37500 [==============================] - 40s 1ms/step - loss: 0.0120 - accuracy: 0.9184 - val_loss: 0.0353 - val_accuracy: 0.7460\n",
      "Epoch 6/12\n",
      "37500/37500 [==============================] - 40s 1ms/step - loss: 0.0120 - accuracy: 0.9198 - val_loss: 0.0355 - val_accuracy: 0.7446\n",
      "Epoch 7/12\n",
      "37500/37500 [==============================] - 40s 1ms/step - loss: 0.0119 - accuracy: 0.9193 - val_loss: 0.0353 - val_accuracy: 0.7464\n",
      "Epoch 8/12\n",
      "37500/37500 [==============================] - 40s 1ms/step - loss: 0.0118 - accuracy: 0.9209 - val_loss: 0.0353 - val_accuracy: 0.7463\n",
      "Epoch 9/12\n",
      "37500/37500 [==============================] - 40s 1ms/step - loss: 0.0118 - accuracy: 0.9195 - val_loss: 0.0352 - val_accuracy: 0.7462\n",
      "Epoch 10/12\n",
      "37500/37500 [==============================] - 40s 1ms/step - loss: 0.0121 - accuracy: 0.9176 - val_loss: 0.0353 - val_accuracy: 0.7453\n",
      "Epoch 11/12\n",
      "37500/37500 [==============================] - 40s 1ms/step - loss: 0.0119 - accuracy: 0.9193 - val_loss: 0.0353 - val_accuracy: 0.7470\n",
      "Epoch 12/12\n",
      "37500/37500 [==============================] - 41s 1ms/step - loss: 0.0118 - accuracy: 0.9207 - val_loss: 0.0353 - val_accuracy: 0.7458\n"
     ]
    },
    {
     "data": {
      "image/png": "[encoded data removed]",
      "text/plain": [
       "<Figure size 432x288 with 1 Axes>"
      ]
     },
     "metadata": {
      "needs_background": "light"
     },
     "output_type": "display_data"
    },
    {
     "data": {
      "image/png": "[encoded data removed]",
      "text/plain": [
       "<Figure size 432x288 with 1 Axes>"
      ]
     },
     "metadata": {
      "needs_background": "light"
     },
     "output_type": "display_data"
    },
    {
     "name": "stdout",
     "output_type": "stream",
     "text": [
      "10000/10000 [==============================] - ETA:  - 3s 326us/step\n",
      "\n",
      "accuracy= 0.7462000250816345\n"
     ]
    }
   ],
   "source": [
    "loss_function = 'mean_squared_error'\n",
    "check_model(loss_function)"
   ]
  },
  {
   "cell_type": "code",
   "execution_count": 29,
   "metadata": {},
   "outputs": [
    {
     "name": "stdout",
     "output_type": "stream",
     "text": [
      "Train on 37500 samples, validate on 12500 samples\n",
      "Epoch 1/12\n",
      "37500/37500 [==============================] - 42s 1ms/step - loss: 0.0414 - accuracy: 0.9844 - val_loss: 0.1256 - val_accuracy: 0.9525\n",
      "Epoch 2/12\n",
      "37500/37500 [==============================] - 40s 1ms/step - loss: 0.0413 - accuracy: 0.9843 - val_loss: 0.1251 - val_accuracy: 0.9527\n",
      "Epoch 3/12\n",
      "37500/37500 [==============================] - 40s 1ms/step - loss: 0.0414 - accuracy: 0.9844 - val_loss: 0.1246 - val_accuracy: 0.9529\n",
      "Epoch 4/12\n",
      "37500/37500 [==============================] - 40s 1ms/step - loss: 0.0415 - accuracy: 0.9842 - val_loss: 0.1259 - val_accuracy: 0.9527\n",
      "Epoch 5/12\n",
      "37500/37500 [==============================] - 40s 1ms/step - loss: 0.0408 - accuracy: 0.9846 - val_loss: 0.1249 - val_accuracy: 0.9528\n",
      "Epoch 6/12\n",
      "37500/37500 [==============================] - 40s 1ms/step - loss: 0.0411 - accuracy: 0.9846 - val_loss: 0.1260 - val_accuracy: 0.9526\n",
      "Epoch 7/12\n",
      "37500/37500 [==============================] - 40s 1ms/step - loss: 0.0412 - accuracy: 0.9844 - val_loss: 0.1258 - val_accuracy: 0.9529\n",
      "Epoch 8/12\n",
      "37500/37500 [==============================] - 40s 1ms/step - loss: 0.0408 - accuracy: 0.9846 - val_loss: 0.1254 - val_accuracy: 0.9530\n",
      "Epoch 9/12\n",
      "37500/37500 [==============================] - 40s 1ms/step - loss: 0.0405 - accuracy: 0.9846 - val_loss: 0.1244 - val_accuracy: 0.9533\n",
      "Epoch 10/12\n",
      "37500/37500 [==============================] - 40s 1ms/step - loss: 0.0409 - accuracy: 0.9843 - val_loss: 0.1252 - val_accuracy: 0.9529\n",
      "Epoch 11/12\n",
      "37500/37500 [==============================] - 41s 1ms/step - loss: 0.0401 - accuracy: 0.9848 - val_loss: 0.1247 - val_accuracy: 0.9531\n",
      "Epoch 12/12\n",
      "37500/37500 [==============================] - 40s 1ms/step - loss: 0.0402 - accuracy: 0.9848 - val_loss: 0.1244 - val_accuracy: 0.9533\n"
     ]
    },
    {
     "data": {
      "image/png": "[encoded data removed]",
      "text/plain": [
       "<Figure size 432x288 with 1 Axes>"
      ]
     },
     "metadata": {
      "needs_background": "light"
     },
     "output_type": "display_data"
    },
    {
     "data": {
      "image/png": "[encoded data removed]",
      "text/plain": [
       "<Figure size 432x288 with 1 Axes>"
      ]
     },
     "metadata": {
      "needs_background": "light"
     },
     "output_type": "display_data"
    },
    {
     "name": "stdout",
     "output_type": "stream",
     "text": [
      "10000/10000 [==============================] - 3s 330us/step\n",
      "\n",
      "accuracy= 0.9527000188827515\n"
     ]
    }
   ],
   "source": [
    "loss_function = 'binary_crossentropy'\n",
    "check_model(loss_function)"
   ]
  },
  {
   "cell_type": "code",
   "execution_count": null,
   "metadata": {},
   "outputs": [],
   "source": []
  }
 ],
 "metadata": {
  "colab": {
   "name": "Day71-使用損失函數_HW.ipynb",
   "provenance": [],
   "version": "0.3.2"
  },
  "kernelspec": {
   "display_name": "Python 3",
   "language": "python",
   "name": "python3"
  },
  "language_info": {
   "codemirror_mode": {
    "name": "ipython",
    "version": 3
   },
   "file_extension": ".py",
   "mimetype": "text/x-python",
   "name": "python",
   "nbconvert_exporter": "python",
   "pygments_lexer": "ipython3",
   "version": "3.7.3"
  }
 },
 "nbformat": 4,
 "nbformat_minor": 1
}
