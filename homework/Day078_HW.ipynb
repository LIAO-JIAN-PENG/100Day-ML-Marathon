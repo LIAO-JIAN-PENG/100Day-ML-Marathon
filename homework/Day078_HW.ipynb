{
 "cells": [
  {
   "cell_type": "markdown",
   "metadata": {},
   "source": [
    "## Work\n",
    "1. 請嘗試將 preproc_x 替換成以每筆資料的 min/max 進行標準化至 -1 ~ 1 間，再進行訓練\n",
    "2. 請嘗試將 mlp 疊更深 (e.g 5~10 層)，進行訓練後觀察 learning curve 的走勢\n",
    "3. (optional) 請改用 GPU 進行訓練 (如果你有 GPU 的話)，比較使用 CPU 與 GPU 的訓練速度"
   ]
  },
  {
   "cell_type": "code",
   "execution_count": 1,
   "metadata": {},
   "outputs": [
    {
     "name": "stderr",
     "output_type": "stream",
     "text": [
      "Using TensorFlow backend.\n"
     ]
    }
   ],
   "source": [
    "import os\n",
    "import keras\n",
    "\n",
    "# 請嘗試設定 GPU：os.environ\n",
    "os.environ[\"CUDA_VISIBLE_DEVICES\"] = \"0\""
   ]
  },
  {
   "cell_type": "code",
   "execution_count": 2,
   "metadata": {},
   "outputs": [],
   "source": [
    "train, test = keras.datasets.cifar10.load_data()"
   ]
  },
  {
   "cell_type": "code",
   "execution_count": 3,
   "metadata": {},
   "outputs": [],
   "source": [
    "## 資料前處理\n",
    "\n",
    "def preproc_x(x, flatten=True):\n",
    "    x = 2 * ((x-x.min()) / (x.max()-x.min())) - 1\n",
    "    if flatten:\n",
    "        x = x.reshape((len(x), -1))\n",
    "    return x\n",
    "    pass\n",
    "\n",
    "def preproc_y(y, num_classes=10):\n",
    "    if y.shape[-1] == 1:\n",
    "        y = keras.utils.to_categorical(y, num_classes)\n",
    "    return y\n",
    "    pass"
   ]
  },
  {
   "cell_type": "code",
   "execution_count": 4,
   "metadata": {},
   "outputs": [],
   "source": [
    "x_train, y_train = train\n",
    "x_test, y_test = test\n",
    "\n",
    "# Preproc the inputs\n",
    "x_train = preproc_x(x_train)\n",
    "x_test = preproc_x(x_test)\n",
    "\n",
    "# Preprc the outputs\n",
    "y_train = preproc_y(y_train)\n",
    "y_test = preproc_y(y_test)"
   ]
  },
  {
   "cell_type": "code",
   "execution_count": 7,
   "metadata": {},
   "outputs": [],
   "source": [
    "import tensorflow as tf\n",
    "# 建立你的神經網路\n",
    "def build_mlp(input_shape, output_units=10, num_neurons=[512, 512, 256, 256, 128, 128, 64, 64, 32, 32]):\n",
    "    input_layer = tf.keras.layers.Input(input_shape)\n",
    "    \n",
    "    for i, n_units in enumerate(num_neurons):\n",
    "        if i == 0:\n",
    "            x = tf.keras.layers.Dense(units=n_units, activation=\"relu\", name=\"hidden_layer\"+str(i+1))(input_layer)\n",
    "        else:\n",
    "            x = tf.keras.layers.Dense(units=n_units, activation=\"relu\", name=\"hidden_layer\"+str(i+1))(x)\n",
    "    \n",
    "    out = tf.keras.layers.Dense(units=output_units, activation=\"softmax\", name=\"output\")(x)\n",
    "    \n",
    "    model = tf.keras.models.Model(inputs=[input_layer], outputs=[out])\n",
    "    return model"
   ]
  },
  {
   "cell_type": "code",
   "execution_count": 8,
   "metadata": {},
   "outputs": [
    {
     "name": "stdout",
     "output_type": "stream",
     "text": [
      "Model: \"model\"\n",
      "_________________________________________________________________\n",
      "Layer (type)                 Output Shape              Param #   \n",
      "=================================================================\n",
      "input_1 (InputLayer)         [(None, 3072)]            0         \n",
      "_________________________________________________________________\n",
      "hidden_layer1 (Dense)        (None, 512)               1573376   \n",
      "_________________________________________________________________\n",
      "hidden_layer2 (Dense)        (None, 512)               262656    \n",
      "_________________________________________________________________\n",
      "hidden_layer3 (Dense)        (None, 256)               131328    \n",
      "_________________________________________________________________\n",
      "hidden_layer4 (Dense)        (None, 256)               65792     \n",
      "_________________________________________________________________\n",
      "hidden_layer5 (Dense)        (None, 128)               32896     \n",
      "_________________________________________________________________\n",
      "hidden_layer6 (Dense)        (None, 128)               16512     \n",
      "_________________________________________________________________\n",
      "hidden_layer7 (Dense)        (None, 64)                8256      \n",
      "_________________________________________________________________\n",
      "hidden_layer8 (Dense)        (None, 64)                4160      \n",
      "_________________________________________________________________\n",
      "hidden_layer9 (Dense)        (None, 32)                2080      \n",
      "_________________________________________________________________\n",
      "hidden_layer10 (Dense)       (None, 32)                1056      \n",
      "_________________________________________________________________\n",
      "output (Dense)               (None, 10)                330       \n",
      "=================================================================\n",
      "Total params: 2,098,442\n",
      "Trainable params: 2,098,442\n",
      "Non-trainable params: 0\n",
      "_________________________________________________________________\n"
     ]
    }
   ],
   "source": [
    "model = build_mlp(input_shape=x_train.shape[1:])\n",
    "model.summary()"
   ]
  },
  {
   "cell_type": "code",
   "execution_count": 9,
   "metadata": {},
   "outputs": [],
   "source": [
    "## 超參數設定\n",
    "LEARNING_RATE = 0.001\n",
    "EPOCHS = 100\n",
    "BATCH_SIZE = 256"
   ]
  },
  {
   "cell_type": "code",
   "execution_count": 11,
   "metadata": {},
   "outputs": [],
   "source": [
    "optimizer = tf.keras.optimizers.Adam(lr=LEARNING_RATE)\n",
    "model.compile(loss=\"categorical_crossentropy\", metrics=[\"accuracy\"], optimizer=optimizer)"
   ]
  },
  {
   "cell_type": "code",
   "execution_count": 12,
   "metadata": {},
   "outputs": [
    {
     "name": "stdout",
     "output_type": "stream",
     "text": [
      "Train on 50000 samples, validate on 10000 samples\n",
      "Epoch 1/100\n",
      "50000/50000 [==============================] - 224s 4ms/sample - loss: 1.8348 - accuracy: 0.3402 - val_loss: 1.6636 - val_accuracy: 0.4163\n",
      "Epoch 2/100\n",
      "50000/50000 [==============================] - 13s 250us/sample - loss: 1.5506 - accuracy: 0.4510 - val_loss: 1.5019 - val_accuracy: 0.4746\n",
      "Epoch 3/100\n",
      "50000/50000 [==============================] - 6s 111us/sample - loss: 1.4229 - accuracy: 0.4990 - val_loss: 1.4288 - val_accuracy: 0.4903\n",
      "Epoch 4/100\n",
      "50000/50000 [==============================] - 6s 111us/sample - loss: 1.3265 - accuracy: 0.5331 - val_loss: 1.4201 - val_accuracy: 0.5045\n",
      "Epoch 5/100\n",
      "50000/50000 [==============================] - 6s 111us/sample - loss: 1.2357 - accuracy: 0.5651 - val_loss: 1.3562 - val_accuracy: 0.5260\n",
      "Epoch 6/100\n",
      "50000/50000 [==============================] - 6s 112us/sample - loss: 1.1541 - accuracy: 0.5964 - val_loss: 1.3787 - val_accuracy: 0.5282\n",
      "Epoch 7/100\n",
      "50000/50000 [==============================] - 6s 114us/sample - loss: 1.0784 - accuracy: 0.6208 - val_loss: 1.3721 - val_accuracy: 0.5298\n",
      "Epoch 8/100\n",
      "50000/50000 [==============================] - 6s 112us/sample - loss: 1.0042 - accuracy: 0.6443 - val_loss: 1.3746 - val_accuracy: 0.5386\n",
      "Epoch 9/100\n",
      "50000/50000 [==============================] - 6s 111us/sample - loss: 0.9208 - accuracy: 0.6772 - val_loss: 1.3864 - val_accuracy: 0.5331\n",
      "Epoch 10/100\n",
      "50000/50000 [==============================] - 6s 111us/sample - loss: 0.8502 - accuracy: 0.7026 - val_loss: 1.4410 - val_accuracy: 0.5421\n",
      "Epoch 11/100\n",
      "50000/50000 [==============================] - 6s 113us/sample - loss: 0.7802 - accuracy: 0.7249 - val_loss: 1.5110 - val_accuracy: 0.5399\n",
      "Epoch 12/100\n",
      "50000/50000 [==============================] - 6s 111us/sample - loss: 0.7104 - accuracy: 0.7488 - val_loss: 1.4759 - val_accuracy: 0.5427\n",
      "Epoch 13/100\n",
      "50000/50000 [==============================] - 6s 111us/sample - loss: 0.6387 - accuracy: 0.7718 - val_loss: 1.6232 - val_accuracy: 0.5425\n",
      "Epoch 14/100\n",
      "50000/50000 [==============================] - 6s 111us/sample - loss: 0.5832 - accuracy: 0.7961 - val_loss: 1.6392 - val_accuracy: 0.5444\n",
      "Epoch 15/100\n",
      "50000/50000 [==============================] - 6s 111us/sample - loss: 0.5294 - accuracy: 0.8145 - val_loss: 1.7637 - val_accuracy: 0.5375\n",
      "Epoch 16/100\n",
      "50000/50000 [==============================] - 6s 112us/sample - loss: 0.4805 - accuracy: 0.8316 - val_loss: 1.8009 - val_accuracy: 0.5431\n",
      "Epoch 17/100\n",
      "50000/50000 [==============================] - 6s 111us/sample - loss: 0.4299 - accuracy: 0.8506 - val_loss: 1.8471 - val_accuracy: 0.5342\n",
      "Epoch 18/100\n",
      "50000/50000 [==============================] - 6s 111us/sample - loss: 0.3992 - accuracy: 0.8610 - val_loss: 2.0250 - val_accuracy: 0.5410\n",
      "Epoch 19/100\n",
      "50000/50000 [==============================] - 6s 111us/sample - loss: 0.3653 - accuracy: 0.8732 - val_loss: 2.1472 - val_accuracy: 0.5476\n",
      "Epoch 20/100\n",
      "50000/50000 [==============================] - 6s 112us/sample - loss: 0.3330 - accuracy: 0.8855 - val_loss: 2.1153 - val_accuracy: 0.5390\n",
      "Epoch 21/100\n",
      "50000/50000 [==============================] - 6s 111us/sample - loss: 0.3152 - accuracy: 0.8922 - val_loss: 2.1209 - val_accuracy: 0.5402\n",
      "Epoch 22/100\n",
      "50000/50000 [==============================] - 6s 113us/sample - loss: 0.2796 - accuracy: 0.9039 - val_loss: 2.3396 - val_accuracy: 0.5297\n",
      "Epoch 23/100\n",
      "50000/50000 [==============================] - 5s 110us/sample - loss: 0.2530 - accuracy: 0.9125 - val_loss: 2.3279 - val_accuracy: 0.5413\n",
      "Epoch 24/100\n",
      "50000/50000 [==============================] - 6s 111us/sample - loss: 0.2453 - accuracy: 0.9167 - val_loss: 2.3926 - val_accuracy: 0.5404\n",
      "Epoch 25/100\n",
      "50000/50000 [==============================] - 6s 111us/sample - loss: 0.2238 - accuracy: 0.9242 - val_loss: 2.4529 - val_accuracy: 0.5424\n",
      "Epoch 26/100\n",
      "50000/50000 [==============================] - 6s 110us/sample - loss: 0.2196 - accuracy: 0.9264 - val_loss: 2.5038 - val_accuracy: 0.5374\n",
      "Epoch 27/100\n",
      "50000/50000 [==============================] - 6s 111us/sample - loss: 0.1955 - accuracy: 0.9346 - val_loss: 2.5845 - val_accuracy: 0.5450\n",
      "Epoch 28/100\n",
      "50000/50000 [==============================] - 6s 111us/sample - loss: 0.1883 - accuracy: 0.9380 - val_loss: 2.4453 - val_accuracy: 0.5417\n",
      "Epoch 29/100\n",
      "50000/50000 [==============================] - 6s 111us/sample - loss: 0.1797 - accuracy: 0.9410 - val_loss: 2.5098 - val_accuracy: 0.5355\n",
      "Epoch 30/100\n",
      "50000/50000 [==============================] - 6s 110us/sample - loss: 0.1676 - accuracy: 0.9436 - val_loss: 2.7408 - val_accuracy: 0.5322\n",
      "Epoch 31/100\n",
      "50000/50000 [==============================] - 6s 111us/sample - loss: 0.1562 - accuracy: 0.9483 - val_loss: 2.5478 - val_accuracy: 0.5397\n",
      "Epoch 32/100\n",
      "50000/50000 [==============================] - 6s 111us/sample - loss: 0.1515 - accuracy: 0.9495 - val_loss: 2.7764 - val_accuracy: 0.5397\n",
      "Epoch 33/100\n",
      "50000/50000 [==============================] - 6s 112us/sample - loss: 0.1493 - accuracy: 0.9504 - val_loss: 2.8639 - val_accuracy: 0.5488\n",
      "Epoch 34/100\n",
      "50000/50000 [==============================] - 6s 112us/sample - loss: 0.1447 - accuracy: 0.9530 - val_loss: 2.7536 - val_accuracy: 0.5367\n",
      "Epoch 35/100\n",
      "50000/50000 [==============================] - 6s 113us/sample - loss: 0.1398 - accuracy: 0.9528 - val_loss: 2.7122 - val_accuracy: 0.5417\n",
      "Epoch 36/100\n",
      "50000/50000 [==============================] - 6s 112us/sample - loss: 0.1370 - accuracy: 0.9558 - val_loss: 2.8569 - val_accuracy: 0.5389\n",
      "Epoch 37/100\n",
      "50000/50000 [==============================] - 6s 114us/sample - loss: 0.1325 - accuracy: 0.9556 - val_loss: 2.7591 - val_accuracy: 0.5407\n",
      "Epoch 38/100\n",
      "50000/50000 [==============================] - 6s 113us/sample - loss: 0.1183 - accuracy: 0.9613 - val_loss: 2.9060 - val_accuracy: 0.5395\n",
      "Epoch 39/100\n",
      "50000/50000 [==============================] - 6s 113us/sample - loss: 0.1241 - accuracy: 0.9599 - val_loss: 2.8455 - val_accuracy: 0.5395\n",
      "Epoch 40/100\n",
      "50000/50000 [==============================] - 6s 111us/sample - loss: 0.1114 - accuracy: 0.9636 - val_loss: 2.7756 - val_accuracy: 0.5417\n",
      "Epoch 41/100\n",
      "50000/50000 [==============================] - 6s 111us/sample - loss: 0.1133 - accuracy: 0.9627 - val_loss: 2.9724 - val_accuracy: 0.5384\n",
      "Epoch 42/100\n",
      "50000/50000 [==============================] - 6s 112us/sample - loss: 0.1080 - accuracy: 0.9645 - val_loss: 2.9124 - val_accuracy: 0.5450\n",
      "Epoch 43/100\n",
      "50000/50000 [==============================] - 6s 112us/sample - loss: 0.1143 - accuracy: 0.9629 - val_loss: 2.9286 - val_accuracy: 0.5370\n",
      "Epoch 44/100\n",
      "50000/50000 [==============================] - 6s 114us/sample - loss: 0.1005 - accuracy: 0.9672 - val_loss: 3.0228 - val_accuracy: 0.5415\n",
      "Epoch 45/100\n",
      "50000/50000 [==============================] - 6s 112us/sample - loss: 0.1030 - accuracy: 0.9667 - val_loss: 3.0394 - val_accuracy: 0.5435\n",
      "Epoch 46/100\n",
      "50000/50000 [==============================] - 6s 113us/sample - loss: 0.1061 - accuracy: 0.9660 - val_loss: 2.8322 - val_accuracy: 0.5427\n",
      "Epoch 47/100\n",
      "50000/50000 [==============================] - 6s 111us/sample - loss: 0.1009 - accuracy: 0.9674 - val_loss: 2.9436 - val_accuracy: 0.5378\n",
      "Epoch 48/100\n",
      "50000/50000 [==============================] - 6s 111us/sample - loss: 0.0981 - accuracy: 0.9688 - val_loss: 3.0576 - val_accuracy: 0.5351\n",
      "Epoch 49/100\n",
      "50000/50000 [==============================] - 6s 112us/sample - loss: 0.1021 - accuracy: 0.9672 - val_loss: 3.1089 - val_accuracy: 0.5410\n",
      "Epoch 50/100\n",
      "50000/50000 [==============================] - 6s 112us/sample - loss: 0.0968 - accuracy: 0.9691 - val_loss: 2.9478 - val_accuracy: 0.5328\n",
      "Epoch 51/100\n",
      "50000/50000 [==============================] - 6s 111us/sample - loss: 0.0902 - accuracy: 0.9710 - val_loss: 3.2499 - val_accuracy: 0.5385\n",
      "Epoch 52/100\n",
      "50000/50000 [==============================] - 6s 111us/sample - loss: 0.0852 - accuracy: 0.9727 - val_loss: 3.2136 - val_accuracy: 0.5416\n",
      "Epoch 53/100\n",
      "50000/50000 [==============================] - 6s 114us/sample - loss: 0.0816 - accuracy: 0.9745 - val_loss: 3.1332 - val_accuracy: 0.5402\n",
      "Epoch 54/100\n",
      "50000/50000 [==============================] - 6s 115us/sample - loss: 0.0834 - accuracy: 0.9737 - val_loss: 3.1620 - val_accuracy: 0.5352\n",
      "Epoch 55/100\n",
      "50000/50000 [==============================] - 6s 112us/sample - loss: 0.0832 - accuracy: 0.9736 - val_loss: 3.3069 - val_accuracy: 0.5416\n",
      "Epoch 56/100\n",
      "50000/50000 [==============================] - 6s 111us/sample - loss: 0.0851 - accuracy: 0.9724 - val_loss: 2.8319 - val_accuracy: 0.5384\n",
      "Epoch 57/100\n",
      "50000/50000 [==============================] - 6s 111us/sample - loss: 0.0816 - accuracy: 0.9739 - val_loss: 3.3253 - val_accuracy: 0.5381\n",
      "Epoch 58/100\n",
      "50000/50000 [==============================] - 6s 111us/sample - loss: 0.0878 - accuracy: 0.9715 - val_loss: 3.2965 - val_accuracy: 0.5443\n",
      "Epoch 59/100\n",
      "50000/50000 [==============================] - 6s 110us/sample - loss: 0.0731 - accuracy: 0.9762 - val_loss: 3.0579 - val_accuracy: 0.5490\n",
      "Epoch 60/100\n",
      "50000/50000 [==============================] - 6s 111us/sample - loss: 0.0759 - accuracy: 0.9763 - val_loss: 3.0513 - val_accuracy: 0.5404\n",
      "Epoch 61/100\n",
      "50000/50000 [==============================] - 6s 111us/sample - loss: 0.0804 - accuracy: 0.9745 - val_loss: 2.8785 - val_accuracy: 0.5344\n",
      "Epoch 62/100\n",
      "50000/50000 [==============================] - 6s 110us/sample - loss: 0.0766 - accuracy: 0.9756 - val_loss: 3.0324 - val_accuracy: 0.5453\n",
      "Epoch 63/100\n",
      "50000/50000 [==============================] - 6s 111us/sample - loss: 0.0671 - accuracy: 0.9785 - val_loss: 3.0448 - val_accuracy: 0.5334\n",
      "Epoch 64/100\n",
      "50000/50000 [==============================] - 6s 111us/sample - loss: 0.0750 - accuracy: 0.9758 - val_loss: 3.1264 - val_accuracy: 0.5379\n",
      "Epoch 65/100\n",
      "50000/50000 [==============================] - 6s 115us/sample - loss: 0.0782 - accuracy: 0.9750 - val_loss: 2.9735 - val_accuracy: 0.5291\n",
      "Epoch 66/100\n",
      "50000/50000 [==============================] - 6s 110us/sample - loss: 0.0796 - accuracy: 0.9749 - val_loss: 3.0116 - val_accuracy: 0.5398\n",
      "Epoch 67/100\n",
      "50000/50000 [==============================] - 6s 111us/sample - loss: 0.0681 - accuracy: 0.9788 - val_loss: 3.2306 - val_accuracy: 0.5428\n",
      "Epoch 68/100\n",
      "50000/50000 [==============================] - 6s 110us/sample - loss: 0.0720 - accuracy: 0.9773 - val_loss: 3.1426 - val_accuracy: 0.5452\n",
      "Epoch 69/100\n",
      "50000/50000 [==============================] - 6s 112us/sample - loss: 0.0698 - accuracy: 0.9779 - val_loss: 3.3731 - val_accuracy: 0.5455\n",
      "Epoch 70/100\n",
      "50000/50000 [==============================] - 6s 111us/sample - loss: 0.0691 - accuracy: 0.9782 - val_loss: 3.2630 - val_accuracy: 0.5489\n",
      "Epoch 71/100\n",
      "50000/50000 [==============================] - 6s 111us/sample - loss: 0.0584 - accuracy: 0.9815 - val_loss: 3.3231 - val_accuracy: 0.5424\n",
      "Epoch 72/100\n",
      "50000/50000 [==============================] - 6s 111us/sample - loss: 0.0621 - accuracy: 0.9812 - val_loss: 3.3675 - val_accuracy: 0.5401\n",
      "Epoch 73/100\n",
      "50000/50000 [==============================] - 6s 110us/sample - loss: 0.0634 - accuracy: 0.9805 - val_loss: 3.2469 - val_accuracy: 0.5460\n",
      "Epoch 74/100\n",
      "50000/50000 [==============================] - 6s 111us/sample - loss: 0.0583 - accuracy: 0.9811 - val_loss: 3.2910 - val_accuracy: 0.5381\n",
      "Epoch 75/100\n",
      "50000/50000 [==============================] - 6s 111us/sample - loss: 0.0714 - accuracy: 0.9776 - val_loss: 3.4960 - val_accuracy: 0.5373\n",
      "Epoch 76/100\n",
      "50000/50000 [==============================] - 6s 111us/sample - loss: 0.0586 - accuracy: 0.9816 - val_loss: 3.1144 - val_accuracy: 0.5459\n",
      "Epoch 77/100\n",
      "50000/50000 [==============================] - 6s 111us/sample - loss: 0.0682 - accuracy: 0.9787 - val_loss: 3.2862 - val_accuracy: 0.5350\n",
      "Epoch 78/100\n",
      "50000/50000 [==============================] - 6s 112us/sample - loss: 0.0738 - accuracy: 0.9764 - val_loss: 3.1462 - val_accuracy: 0.5429\n",
      "Epoch 79/100\n",
      "50000/50000 [==============================] - 6s 111us/sample - loss: 0.0565 - accuracy: 0.9826 - val_loss: 3.4156 - val_accuracy: 0.5372\n",
      "Epoch 80/100\n",
      "50000/50000 [==============================] - 6s 111us/sample - loss: 0.0541 - accuracy: 0.9829 - val_loss: 3.0739 - val_accuracy: 0.5404\n",
      "Epoch 81/100\n",
      "50000/50000 [==============================] - 6s 111us/sample - loss: 0.0594 - accuracy: 0.9812 - val_loss: 3.5867 - val_accuracy: 0.5369\n",
      "Epoch 82/100\n",
      "50000/50000 [==============================] - 6s 110us/sample - loss: 0.0695 - accuracy: 0.9785 - val_loss: 3.1863 - val_accuracy: 0.5389\n",
      "Epoch 83/100\n",
      "50000/50000 [==============================] - 6s 110us/sample - loss: 0.0622 - accuracy: 0.9800 - val_loss: 3.3072 - val_accuracy: 0.5363\n",
      "Epoch 84/100\n",
      "50000/50000 [==============================] - 6s 111us/sample - loss: 0.0472 - accuracy: 0.9858 - val_loss: 3.6566 - val_accuracy: 0.5406\n",
      "Epoch 85/100\n",
      "50000/50000 [==============================] - 5s 110us/sample - loss: 0.0533 - accuracy: 0.9826 - val_loss: 3.5509 - val_accuracy: 0.5445\n",
      "Epoch 86/100\n",
      "50000/50000 [==============================] - 5s 110us/sample - loss: 0.0583 - accuracy: 0.9809 - val_loss: 3.2086 - val_accuracy: 0.5353\n",
      "Epoch 87/100\n",
      "50000/50000 [==============================] - 6s 111us/sample - loss: 0.0611 - accuracy: 0.9802 - val_loss: 3.4908 - val_accuracy: 0.5432\n",
      "Epoch 88/100\n",
      "50000/50000 [==============================] - 6s 111us/sample - loss: 0.0508 - accuracy: 0.9837 - val_loss: 3.6060 - val_accuracy: 0.5402\n",
      "Epoch 89/100\n",
      "50000/50000 [==============================] - 6s 111us/sample - loss: 0.0424 - accuracy: 0.9869 - val_loss: 3.2912 - val_accuracy: 0.5363\n",
      "Epoch 90/100\n",
      "50000/50000 [==============================] - 6s 112us/sample - loss: 0.0541 - accuracy: 0.9828 - val_loss: 3.5429 - val_accuracy: 0.5459\n",
      "Epoch 91/100\n",
      "50000/50000 [==============================] - 6s 111us/sample - loss: 0.0526 - accuracy: 0.9835 - val_loss: 3.3713 - val_accuracy: 0.5391\n",
      "Epoch 92/100\n",
      "50000/50000 [==============================] - 6s 111us/sample - loss: 0.0664 - accuracy: 0.9792 - val_loss: 3.0461 - val_accuracy: 0.5381\n",
      "Epoch 93/100\n",
      "50000/50000 [==============================] - 6s 111us/sample - loss: 0.0535 - accuracy: 0.9841 - val_loss: 3.2781 - val_accuracy: 0.5384\n",
      "Epoch 94/100\n",
      "50000/50000 [==============================] - 6s 111us/sample - loss: 0.0578 - accuracy: 0.9814 - val_loss: 3.3836 - val_accuracy: 0.5469\n",
      "Epoch 95/100\n",
      "50000/50000 [==============================] - 6s 112us/sample - loss: 0.0499 - accuracy: 0.9848 - val_loss: 3.3673 - val_accuracy: 0.5342\n",
      "Epoch 96/100\n",
      "50000/50000 [==============================] - 6s 111us/sample - loss: 0.0511 - accuracy: 0.9842 - val_loss: 3.2440 - val_accuracy: 0.5411\n",
      "Epoch 97/100\n",
      "50000/50000 [==============================] - 6s 111us/sample - loss: 0.0502 - accuracy: 0.9843 - val_loss: 3.5772 - val_accuracy: 0.5414\n",
      "Epoch 98/100\n",
      "50000/50000 [==============================] - 6s 111us/sample - loss: 0.0477 - accuracy: 0.9852 - val_loss: 3.4765 - val_accuracy: 0.5377\n",
      "Epoch 99/100\n",
      "50000/50000 [==============================] - 6s 111us/sample - loss: 0.0400 - accuracy: 0.9874 - val_loss: 3.8373 - val_accuracy: 0.5362\n",
      "Epoch 100/100\n",
      "50000/50000 [==============================] - 6s 110us/sample - loss: 0.0503 - accuracy: 0.9843 - val_loss: 3.4012 - val_accuracy: 0.5421\n"
     ]
    },
    {
     "data": {
      "text/plain": [
       "<tensorflow.python.keras.callbacks.History at 0x209c9a44a90>"
      ]
     },
     "execution_count": 12,
     "metadata": {},
     "output_type": "execute_result"
    }
   ],
   "source": [
    "model.fit(x_train, y_train, \n",
    "          epochs=EPOCHS, \n",
    "          batch_size=BATCH_SIZE, \n",
    "          validation_data=(x_test, y_test), \n",
    "          shuffle=True)"
   ]
  },
  {
   "cell_type": "code",
   "execution_count": 14,
   "metadata": {},
   "outputs": [
    {
     "data": {
      "image/png": "[encoded data removed]",
      "text/plain": [
       "<Figure size 432x288 with 1 Axes>"
      ]
     },
     "metadata": {
      "needs_background": "light"
     },
     "output_type": "display_data"
    },
    {
     "data": {
      "image/png": "[encoded data removed]",
      "text/plain": [
       "<Figure size 432x288 with 1 Axes>"
      ]
     },
     "metadata": {
      "needs_background": "light"
     },
     "output_type": "display_data"
    }
   ],
   "source": [
    "import matplotlib.pyplot as plt\n",
    "\n",
    "\n",
    "train_loss = model.history.history[\"loss\"]\n",
    "valid_loss = model.history.history[\"val_loss\"]\n",
    "\n",
    "train_acc = model.history.history[\"accuracy\"]\n",
    "valid_acc = model.history.history[\"val_accuracy\"]\n",
    "\n",
    "plt.plot(range(len(train_loss)), train_loss, label=\"train loss\")\n",
    "plt.plot(range(len(valid_loss)), valid_loss, label=\"valid loss\")\n",
    "plt.legend()\n",
    "plt.title(\"Loss\")\n",
    "plt.show()\n",
    "\n",
    "plt.plot(range(len(train_acc)), train_acc, label=\"train accuracy\")\n",
    "plt.plot(range(len(valid_acc)), valid_acc, label=\"valid accuracy\")\n",
    "plt.legend()\n",
    "plt.title(\"Accuracy\")\n",
    "plt.show()"
   ]
  },
  {
   "cell_type": "code",
   "execution_count": null,
   "metadata": {},
   "outputs": [],
   "source": []
  }
 ],
 "metadata": {
  "kernelspec": {
   "display_name": "Python 3",
   "language": "python",
   "name": "python3"
  },
  "language_info": {
   "codemirror_mode": {
    "name": "ipython",
    "version": 3
   },
   "file_extension": ".py",
   "mimetype": "text/x-python",
   "name": "python",
   "nbconvert_exporter": "python",
   "pygments_lexer": "ipython3",
   "version": "3.7.3"
  }
 },
 "nbformat": 4,
 "nbformat_minor": 2
}
