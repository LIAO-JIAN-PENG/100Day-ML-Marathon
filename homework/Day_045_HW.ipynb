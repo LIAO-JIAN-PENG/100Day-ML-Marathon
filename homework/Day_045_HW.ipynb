{
 "cells": [
  {
   "cell_type": "markdown",
   "metadata": {},
   "source": [
    "## Ensemble 概念 by 李宏毅教授\n",
    "### Ensemble 其實就是 團隊合作 ， 集合好幾個不同模型處理\n",
    "### Ensemble : 根據使用場合的不同來用不同方法\n",
    "### 1. Bagging:用在很強、很複雜、很容易 overfitting 的 model\n",
    "### 目的減低variance\n",
    "###  regression 求平均；classification 用voting\n",
    "### random forest:對decision tree 做bagging 就是 random forest(random 決定某feature無法使用)\n",
    "### Out of Bag Error (OOB) validation for bagging : 可以不用切成 training set 和 validation set，一樣可以有 validation 的效果\n",
    "### 做 Bagging 並不會使模型更 fit data，Ensemble function 只是因為把他平均起來，他只是變更平滑而已\n",
    "### 2.Boosting : 用在很弱的 model \n",
    "### Guarantee : boosting可以把僅略高於 50% 錯誤率（error rate）這種跟瞎猜一樣的很弱的模型，把他訓練成錯誤率 0 %\n",
    "### 把多個 Decision Stump 集結起來，錯誤率竟然降到 0%\n",
    "### Adaboost 找到與f1互補的f2，並找到一組新的training data 使得f1爛掉\n",
    "### 3.Stacking\n",
    "### 把那四個人的模型 output 當作後來的模型的 input （as new feature）， 那final classifier會根據剩下沒被拿去訓練那四人模型所剩的training data來訓練，並給四人的模型各設一個權重，如果final classifier知道小毛這個人不強，他的模型權重就給他低一點"
   ]
  },
  {
   "cell_type": "code",
   "execution_count": null,
   "metadata": {},
   "outputs": [],
   "source": []
  }
 ],
 "metadata": {
  "kernelspec": {
   "display_name": "Python 3",
   "language": "python",
   "name": "python3"
  },
  "language_info": {
   "codemirror_mode": {
    "name": "ipython",
    "version": 3
   },
   "file_extension": ".py",
   "mimetype": "text/x-python",
   "name": "python",
   "nbconvert_exporter": "python",
   "pygments_lexer": "ipython3",
   "version": "3.7.3"
  }
 },
 "nbformat": 4,
 "nbformat_minor": 2
}
